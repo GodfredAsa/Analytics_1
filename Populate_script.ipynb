{
 "cells": [
  {
   "cell_type": "code",
   "execution_count": 27,
   "metadata": {},
   "outputs": [],
   "source": [
    "import pandas as pd\n",
    "import csv\n",
    "import numpy as np\n",
    "import json\n",
    "import ast\n",
    "pd.options.display.max_columns = 30\n",
    "data = []"
   ]
  },
  {
   "cell_type": "code",
   "execution_count": 28,
   "metadata": {},
   "outputs": [],
   "source": [
    "with open('populate.csv', newline = '') as csvfile:\n",
    "    spamreader = csv.reader(csvfile, delimiter = ',')\n",
    "    for row in spamreader:\n",
    "        data.append(row)"
   ]
  },
  {
   "cell_type": "code",
   "execution_count": 33,
   "metadata": {},
   "outputs": [
    {
     "data": {
      "text/plain": [
       "['Biology',\n",
       " 'Talks about livingthings',\n",
       " 'Anita ',\n",
       " 'Banaman',\n",
       " 'taganet',\n",
       " 'anitaosei',\n",
       " 'anita',\n",
       " 'anita',\n",
       " 'Animals',\n",
       " 'category',\n",
       " 'Lorem orem lorem',\n",
       " 'publication date',\n",
       " 'tag',\n",
       " 'TRUE',\n",
       " 'author']"
      ]
     },
     "execution_count": 33,
     "metadata": {},
     "output_type": "execute_result"
    }
   ],
   "source": [
    "data[2:][2]"
   ]
  },
  {
   "cell_type": "code",
   "execution_count": null,
   "metadata": {},
   "outputs": [],
   "source": []
  }
 ],
 "metadata": {
  "kernelspec": {
   "display_name": "Python 3",
   "language": "python",
   "name": "python3"
  },
  "language_info": {
   "codemirror_mode": {
    "name": "ipython",
    "version": 3
   },
   "file_extension": ".py",
   "mimetype": "text/x-python",
   "name": "python",
   "nbconvert_exporter": "python",
   "pygments_lexer": "ipython3",
   "version": "3.7.3"
  }
 },
 "nbformat": 4,
 "nbformat_minor": 2
}
